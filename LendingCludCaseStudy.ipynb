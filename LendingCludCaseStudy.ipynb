{
 "cells": [
  {
   "cell_type": "markdown",
   "metadata": {},
   "source": [
    "## Case Study\n",
    "This consumer finance company is the largest online loan marketplace, facilitating personal loans, business loans, and financing of medical procedures that matches borrowers who are seeking a loan with investors looking to lend money. Borrowers can easily access lower interest rate loans through a fast online interface. "
   ]
  },
  {
   "cell_type": "code",
   "execution_count": 1,
   "metadata": {},
   "outputs": [],
   "source": [
    "#import libraries\n",
    "\n",
    "import pandas as pd\n",
    "import numpy as np"
   ]
  },
  {
   "cell_type": "code",
   "execution_count": 2,
   "metadata": {},
   "outputs": [],
   "source": [
    "#import the file into dataset\n",
    "\n",
    "df = pd.read_csv(r'C:\\Lending_Club_Case_Study\\LendingClubCaseStudy\\Source_Files\\loan.csv', low_memory=False)"
   ]
  },
  {
   "cell_type": "code",
   "execution_count": 3,
   "metadata": {},
   "outputs": [
    {
     "name": "stdout",
     "output_type": "stream",
     "text": [
      "id                                  int64\n",
      "member_id                           int64\n",
      "loan_amnt                           int64\n",
      "funded_amnt                         int64\n",
      "funded_amnt_inv                   float64\n",
      "term                               object\n",
      "int_rate                           object\n",
      "installment                       float64\n",
      "grade                              object\n",
      "sub_grade                          object\n",
      "emp_title                          object\n",
      "emp_length                         object\n",
      "home_ownership                     object\n",
      "annual_inc                        float64\n",
      "verification_status                object\n",
      "issue_d                            object\n",
      "loan_status                        object\n",
      "pymnt_plan                         object\n",
      "url                                object\n",
      "desc                               object\n",
      "purpose                            object\n",
      "title                              object\n",
      "zip_code                           object\n",
      "addr_state                         object\n",
      "dti                               float64\n",
      "delinq_2yrs                         int64\n",
      "earliest_cr_line                   object\n",
      "inq_last_6mths                      int64\n",
      "mths_since_last_delinq            float64\n",
      "mths_since_last_record            float64\n",
      "open_acc                            int64\n",
      "pub_rec                             int64\n",
      "revol_bal                           int64\n",
      "revol_util                         object\n",
      "total_acc                           int64\n",
      "initial_list_status                object\n",
      "out_prncp                         float64\n",
      "out_prncp_inv                     float64\n",
      "total_pymnt                       float64\n",
      "total_pymnt_inv                   float64\n",
      "total_rec_prncp                   float64\n",
      "total_rec_int                     float64\n",
      "total_rec_late_fee                float64\n",
      "recoveries                        float64\n",
      "collection_recovery_fee           float64\n",
      "last_pymnt_d                       object\n",
      "last_pymnt_amnt                   float64\n",
      "next_pymnt_d                       object\n",
      "last_credit_pull_d                 object\n",
      "collections_12_mths_ex_med        float64\n",
      "mths_since_last_major_derog       float64\n",
      "policy_code                         int64\n",
      "application_type                   object\n",
      "annual_inc_joint                  float64\n",
      "dti_joint                         float64\n",
      "verification_status_joint         float64\n",
      "acc_now_delinq                      int64\n",
      "tot_coll_amt                      float64\n",
      "tot_cur_bal                       float64\n",
      "open_acc_6m                       float64\n",
      "open_il_6m                        float64\n",
      "open_il_12m                       float64\n",
      "open_il_24m                       float64\n",
      "mths_since_rcnt_il                float64\n",
      "total_bal_il                      float64\n",
      "il_util                           float64\n",
      "open_rv_12m                       float64\n",
      "open_rv_24m                       float64\n",
      "max_bal_bc                        float64\n",
      "all_util                          float64\n",
      "total_rev_hi_lim                  float64\n",
      "inq_fi                            float64\n",
      "total_cu_tl                       float64\n",
      "inq_last_12m                      float64\n",
      "acc_open_past_24mths              float64\n",
      "avg_cur_bal                       float64\n",
      "bc_open_to_buy                    float64\n",
      "bc_util                           float64\n",
      "chargeoff_within_12_mths          float64\n",
      "delinq_amnt                         int64\n",
      "mo_sin_old_il_acct                float64\n",
      "mo_sin_old_rev_tl_op              float64\n",
      "mo_sin_rcnt_rev_tl_op             float64\n",
      "mo_sin_rcnt_tl                    float64\n",
      "mort_acc                          float64\n",
      "mths_since_recent_bc              float64\n",
      "mths_since_recent_bc_dlq          float64\n",
      "mths_since_recent_inq             float64\n",
      "mths_since_recent_revol_delinq    float64\n",
      "num_accts_ever_120_pd             float64\n",
      "num_actv_bc_tl                    float64\n",
      "num_actv_rev_tl                   float64\n",
      "num_bc_sats                       float64\n",
      "num_bc_tl                         float64\n",
      "num_il_tl                         float64\n",
      "num_op_rev_tl                     float64\n",
      "num_rev_accts                     float64\n",
      "num_rev_tl_bal_gt_0               float64\n",
      "num_sats                          float64\n",
      "num_tl_120dpd_2m                  float64\n",
      "num_tl_30dpd                      float64\n",
      "num_tl_90g_dpd_24m                float64\n",
      "num_tl_op_past_12m                float64\n",
      "pct_tl_nvr_dlq                    float64\n",
      "percent_bc_gt_75                  float64\n",
      "pub_rec_bankruptcies              float64\n",
      "tax_liens                         float64\n",
      "tot_hi_cred_lim                   float64\n",
      "total_bal_ex_mort                 float64\n",
      "total_bc_limit                    float64\n",
      "total_il_high_credit_limit        float64\n",
      "dtype: object\n"
     ]
    }
   ],
   "source": [
    "#change the setting to display all columns in the dataset\n",
    "#check the data types of the columns\n",
    "\n",
    "with pd.option_context('display.max_rows', None, 'display.max_columns', None):\n",
    "    print(df.dtypes)"
   ]
  },
  {
   "cell_type": "markdown",
   "metadata": {},
   "source": [
    "## Remove Columns not useful for analysis"
   ]
  },
  {
   "cell_type": "code",
   "execution_count": 4,
   "metadata": {
    "scrolled": false
   },
   "outputs": [],
   "source": [
    "#drop the columns where all of the data in the columns is NA\n",
    "\n",
    "df = df.dropna(axis = 1, how='all')"
   ]
  },
  {
   "cell_type": "code",
   "execution_count": 5,
   "metadata": {},
   "outputs": [],
   "source": [
    "#Data Dictionary: id - A unique LC assigned ID for the loan listing.\n",
    "#not useful to analyse if the applicant is likely to repay the loan based on unique Id column\n",
    "del df[\"id\"]\n",
    "\n",
    "#Data Dictionary: member_id - A unique LC assigned Id for the borrower member.\n",
    "#not useful to analyse if the applicant is likely to repay the loan based on unique Id column\n",
    "del df[\"member_id\"]\n",
    "\n",
    "#Data Dictionary: next_pymnt_d - Next scheduled payment date\n",
    "#drop the column as 38,577 rows data is missing out of 39,718 data rows in the dataframe\n",
    "del df[\"next_pymnt_d\"]\n",
    "\n",
    "#Data Dictionary: collections_12_mths_ex_med - Number of collections in 12 months excluding medical collections\n",
    "#not useful of analysis as all of the data is 0 and NA\n",
    "del df[\"collections_12_mths_ex_med\"]\n",
    "\n",
    "#Data Dictionary: delinq_amnt - The past-due amount owed for the accounts on which the borrower is now delinquent.\n",
    "#not useful of analysis as all of the data in the column is 0\n",
    "del df[\"delinq_amnt\"]\n",
    "\n",
    "#Data Dictionary: tax_liens - A legal claim against the assets of an individual or business that fails to pay taxes owed to the government\n",
    "#not useful of analysis as all of the data is 0 and NA\n",
    "del df[\"tax_liens\"]\n",
    "\n",
    "#Data Dictionary: initial_list_status - The initial listing status of the loan. Possible values are – W, F\n",
    "#not useful of analysis as all of the data is f\n",
    "del df[\"initial_list_status\"]\n",
    "\n",
    "#Data Dictionary: policy_code - publicly available policy_code=1; new products not publicly available policy_code=2\n",
    "#not useful of analysis as all of the data is 1\n",
    "del df[\"policy_code\"]\n",
    "\n",
    "#Data Dictionary: application_type - Indicates whether the loan is an individual application or a joint application with two co-borrowers\n",
    "#not useful of analysis as all of the data is individual\n",
    "del df[\"application_type\"]\n",
    "\n",
    "#Data Dictionary: url - URL for the LC page with listing data.\n",
    "#not useful of analysis as it has only loanid information alone.\n",
    "del df[\"url\"]\n",
    "\n",
    "#Data Dictionary: desc - Loan description provided by the borrower.\n",
    "#not useful of analysis as we get same data from purpose and loan title variables.\n",
    "del df[\"desc\"]\n"
   ]
  },
  {
   "cell_type": "code",
   "execution_count": 6,
   "metadata": {},
   "outputs": [],
   "source": [
    "#Variables which are not useful to analyse as this data will not be available at time of receiving an online application\n",
    "#and which cannot be used as predictors for approval\n",
    "\n",
    "#Data Dictionary: funded_amnt - The total amount committed to that loan at that point in time.\n",
    "del df[\"funded_amnt\"]\n",
    "\n",
    "#Data Dictionary: funded_amnt_inv - The total amount committed by investors for that loan at that point in time.\n",
    "del df[\"funded_amnt_inv\"]\n",
    "\n",
    "#Data Dictionary: delinq_2yrs - The number of 30+ days past-due incidences of delinquency in the borrower's credit file for the past 2 years\n",
    "del df[\"delinq_2yrs\"]\n",
    "\n",
    "#Data Dictionary: earliest_cr_line - The month the borrower's earliest reported credit line was opened\n",
    "del df[\"earliest_cr_line\"]\n",
    "\n",
    "#Data Dictionary: inq_last_6mths - The number of inquiries in past 6 months (excluding auto and mortgage inquiries)\n",
    "del df[\"inq_last_6mths\"]\n",
    "\n",
    "#Data Dictionary: open_acc - The number of open credit lines in the borrower's credit file.\n",
    "del df[\"open_acc\"]\n",
    "\n",
    "#Data Dictionary: pub_rec - Number of derogatory public records.\n",
    "del df[\"pub_rec\"]\n",
    "\n",
    "#Data Dictionary: revol_bal - Total credit revolving balance.\n",
    "del df[\"revol_bal\"]\n",
    "\n",
    "#Data Dictionary: revol_util - Revolving line utilization rate, or the amount of credit the borrower is using relative to all available revolving credit.\n",
    "del df[\"revol_util\"]\n",
    "\n",
    "#Data Dictionary: total_acc - The total number of credit lines currently in the borrower's credit file\n",
    "del df[\"total_acc\"]\n",
    "\n",
    "#Data Dictionary: out_prncp - Remaining outstanding principal for total amount funded\n",
    "del df[\"out_prncp\"]\n",
    "\n",
    "#Data Dictionary: out_prncp_inv - Remaining outstanding principal for portion of total amount funded by investors\n",
    "del df[\"out_prncp_inv\"]\n",
    "\n",
    "#Data Dictionary: total_pymnt - Payments received to date for total amount funded\n",
    "del df[\"total_pymnt\"]\n",
    "\n",
    "#Data Dictionary: total_pymnt_inv - Payments received to date for portion of total amount funded by investors\n",
    "del df[\"total_pymnt_inv\"]\n",
    "\n",
    "#Data Dictionary: total_rec_prncp - Principal received to date\n",
    "del df[\"total_rec_prncp\"]\n",
    "\n",
    "#Data Dictionary: total_rec_int - Interest received to date\n",
    "del df[\"total_rec_int\"]\n",
    "\n",
    "#Data Dictionary: total_rec_late_fee - Late fees received to date\n",
    "del df[\"total_rec_late_fee\"]\n",
    "\n",
    "#Data Dictionary: recoveries - post charge off gross recovery\n",
    "del df[\"recoveries\"]\n",
    "\n",
    "#Data Dictionary: collection_recovery_fee - post charge off collection fee\n",
    "del df[\"collection_recovery_fee\"]\n",
    "\n",
    "#Data Dictionary: last_pymnt_d - Last month payment was received\n",
    "del df[\"last_pymnt_d\"]\n",
    "\n",
    "#Data Dictionary: last_pymnt_amnt - Last total payment amount received\n",
    "del df[\"last_pymnt_amnt\"]\n",
    "\n",
    "#Data Dictionary: last_credit_pull_d - The most recent month LC pulled credit for this loan\n",
    "del df[\"last_credit_pull_d\"]\n",
    "\n",
    "#Data Dictionary: mths_since_last_delinq - The number of months since the borrower's last delinquency.\n",
    "del df[\"mths_since_last_delinq\"]\n",
    "\n",
    "#Data Dictionary: mths_since_last_record - The number of months since the last public record.\n",
    "del df[\"mths_since_last_record\"]\n",
    "\n",
    "#Data Dictionary: pub_rec_bankruptcies - Number of public record bankruptcies\n",
    "del df[\"pub_rec_bankruptcies\"]"
   ]
  },
  {
   "cell_type": "code",
   "execution_count": 7,
   "metadata": {},
   "outputs": [
    {
     "data": {
      "text/plain": [
       "loan_amnt                      0\n",
       "term                           0\n",
       "int_rate                       0\n",
       "installment                    0\n",
       "grade                          0\n",
       "sub_grade                      0\n",
       "emp_title                   2459\n",
       "emp_length                  1075\n",
       "home_ownership                 0\n",
       "annual_inc                     0\n",
       "verification_status            0\n",
       "issue_d                        0\n",
       "loan_status                    0\n",
       "pymnt_plan                     0\n",
       "purpose                        0\n",
       "title                         11\n",
       "zip_code                       0\n",
       "addr_state                     0\n",
       "dti                            0\n",
       "acc_now_delinq                 0\n",
       "chargeoff_within_12_mths      56\n",
       "dtype: int64"
      ]
     },
     "execution_count": 7,
     "metadata": {},
     "output_type": "execute_result"
    }
   ],
   "source": [
    "#check total NA values by columns in dataframe\n",
    "\n",
    "df.isna().sum()"
   ]
  },
  {
   "cell_type": "markdown",
   "metadata": {},
   "source": [
    "### Define Schema"
   ]
  },
  {
   "cell_type": "code",
   "execution_count": 8,
   "metadata": {},
   "outputs": [],
   "source": [
    "#change the datatype from string to float\n",
    "\n",
    "df['int_rate'] = df['int_rate'].str.strip('%')\n",
    "df['int_rate'] = df['int_rate'].astype(float)"
   ]
  },
  {
   "cell_type": "code",
   "execution_count": 9,
   "metadata": {},
   "outputs": [],
   "source": [
    "#convert to boolean datatype\n",
    "#Indicates if the payment plan is put in place for the loan\n",
    "\n",
    "Payment_Plan = {'n': True, '': False}\n",
    "df['pymnt_plan'] = df['pymnt_plan'].map(Payment_Plan)"
   ]
  },
  {
   "cell_type": "code",
   "execution_count": 10,
   "metadata": {},
   "outputs": [
    {
     "name": "stdout",
     "output_type": "stream",
     "text": [
      "          loan_amnt      int_rate   installment    annual_inc           dti  \\\n",
      "count  39717.000000  39717.000000  39717.000000  3.971700e+04  39717.000000   \n",
      "mean   11219.443815     12.021177    324.561922  6.896893e+04     13.315130   \n",
      "std     7456.670694      3.724825    208.874874  6.379377e+04      6.678594   \n",
      "min      500.000000      5.420000     15.690000  4.000000e+03      0.000000   \n",
      "25%     5500.000000      9.250000    167.020000  4.040400e+04      8.170000   \n",
      "50%    10000.000000     11.860000    280.220000  5.900000e+04     13.400000   \n",
      "75%    15000.000000     14.590000    430.780000  8.230000e+04     18.600000   \n",
      "max    35000.000000     24.590000   1305.190000  6.000000e+06     29.990000   \n",
      "\n",
      "       acc_now_delinq  chargeoff_within_12_mths  \n",
      "count         39717.0                   39661.0  \n",
      "mean              0.0                       0.0  \n",
      "std               0.0                       0.0  \n",
      "min               0.0                       0.0  \n",
      "25%               0.0                       0.0  \n",
      "50%               0.0                       0.0  \n",
      "75%               0.0                       0.0  \n",
      "max               0.0                       0.0  \n"
     ]
    }
   ],
   "source": [
    "print(df.describe())"
   ]
  },
  {
   "cell_type": "code",
   "execution_count": 11,
   "metadata": {},
   "outputs": [
    {
     "name": "stdout",
     "output_type": "stream",
     "text": [
      "loan_amnt                     int64\n",
      "term                         object\n",
      "int_rate                    float64\n",
      "installment                 float64\n",
      "grade                        object\n",
      "sub_grade                    object\n",
      "emp_title                    object\n",
      "emp_length                   object\n",
      "home_ownership               object\n",
      "annual_inc                  float64\n",
      "verification_status          object\n",
      "issue_d                      object\n",
      "loan_status                  object\n",
      "pymnt_plan                     bool\n",
      "purpose                      object\n",
      "title                        object\n",
      "zip_code                     object\n",
      "addr_state                   object\n",
      "dti                         float64\n",
      "acc_now_delinq                int64\n",
      "chargeoff_within_12_mths    float64\n",
      "dtype: object\n"
     ]
    }
   ],
   "source": [
    "#change the setting to display all columns in the dataset\n",
    "#check the data types of the columns\n",
    "\n",
    "with pd.option_context('display.max_rows', None, 'display.max_columns', None):\n",
    "    print(df.dtypes)"
   ]
  },
  {
   "cell_type": "markdown",
   "metadata": {},
   "source": [
    "### Romove rows not useful for analysis"
   ]
  },
  {
   "cell_type": "code",
   "execution_count": 12,
   "metadata": {},
   "outputs": [
    {
     "name": "stdout",
     "output_type": "stream",
     "text": [
      "Number of Rows: loan_amnt                   39717\n",
      "term                        39717\n",
      "int_rate                    39717\n",
      "installment                 39717\n",
      "grade                       39717\n",
      "sub_grade                   39717\n",
      "emp_title                   37258\n",
      "emp_length                  38642\n",
      "home_ownership              39717\n",
      "annual_inc                  39717\n",
      "verification_status         39717\n",
      "issue_d                     39717\n",
      "loan_status                 39717\n",
      "pymnt_plan                  39717\n",
      "purpose                     39717\n",
      "title                       39706\n",
      "zip_code                    39717\n",
      "addr_state                  39717\n",
      "dti                         39717\n",
      "acc_now_delinq              39717\n",
      "chargeoff_within_12_mths    39661\n",
      "dtype: int64\n",
      "Number of Columns: 21\n",
      "Number of Rows after removing rows: loan_amnt                   39717\n",
      "term                        39717\n",
      "int_rate                    39717\n",
      "installment                 39717\n",
      "grade                       39717\n",
      "sub_grade                   39717\n",
      "emp_title                   37258\n",
      "emp_length                  38642\n",
      "home_ownership              39717\n",
      "annual_inc                  39717\n",
      "verification_status         39717\n",
      "issue_d                     39717\n",
      "loan_status                 39717\n",
      "pymnt_plan                  39717\n",
      "purpose                     39717\n",
      "title                       39706\n",
      "zip_code                    39717\n",
      "addr_state                  39717\n",
      "dti                         39717\n",
      "acc_now_delinq              39717\n",
      "chargeoff_within_12_mths    39661\n",
      "dtype: int64\n"
     ]
    }
   ],
   "source": [
    "#check total NA values by rows in dataframe\n",
    "print(\"Number of Rows:\", df.count())\n",
    "print(\"Number of Columns:\",len(df.columns))\n",
    "\n",
    "#drop the rows only when there are missing values in all the columns\n",
    "df = df.dropna(axis = 0, how ='all' )\n",
    "\n",
    "print(\"Number of Rows after removing rows:\", df.count())\n"
   ]
  },
  {
   "cell_type": "code",
   "execution_count": 13,
   "metadata": {},
   "outputs": [
    {
     "data": {
      "text/html": [
       "<div>\n",
       "<style scoped>\n",
       "    .dataframe tbody tr th:only-of-type {\n",
       "        vertical-align: middle;\n",
       "    }\n",
       "\n",
       "    .dataframe tbody tr th {\n",
       "        vertical-align: top;\n",
       "    }\n",
       "\n",
       "    .dataframe thead th {\n",
       "        text-align: right;\n",
       "    }\n",
       "</style>\n",
       "<table border=\"1\" class=\"dataframe\">\n",
       "  <thead>\n",
       "    <tr style=\"text-align: right;\">\n",
       "      <th></th>\n",
       "      <th>loan_amnt</th>\n",
       "      <th>term</th>\n",
       "      <th>int_rate</th>\n",
       "      <th>installment</th>\n",
       "      <th>grade</th>\n",
       "      <th>sub_grade</th>\n",
       "      <th>emp_title</th>\n",
       "      <th>emp_length</th>\n",
       "      <th>home_ownership</th>\n",
       "      <th>annual_inc</th>\n",
       "      <th>...</th>\n",
       "      <th>issue_d</th>\n",
       "      <th>loan_status</th>\n",
       "      <th>pymnt_plan</th>\n",
       "      <th>purpose</th>\n",
       "      <th>title</th>\n",
       "      <th>zip_code</th>\n",
       "      <th>addr_state</th>\n",
       "      <th>dti</th>\n",
       "      <th>acc_now_delinq</th>\n",
       "      <th>chargeoff_within_12_mths</th>\n",
       "    </tr>\n",
       "  </thead>\n",
       "  <tbody>\n",
       "    <tr>\n",
       "      <th>0</th>\n",
       "      <td>5000</td>\n",
       "      <td>36 months</td>\n",
       "      <td>10.65</td>\n",
       "      <td>162.87</td>\n",
       "      <td>B</td>\n",
       "      <td>B2</td>\n",
       "      <td>NaN</td>\n",
       "      <td>10+ years</td>\n",
       "      <td>RENT</td>\n",
       "      <td>24000.0</td>\n",
       "      <td>...</td>\n",
       "      <td>Dec-11</td>\n",
       "      <td>Fully Paid</td>\n",
       "      <td>True</td>\n",
       "      <td>credit_card</td>\n",
       "      <td>Computer</td>\n",
       "      <td>860xx</td>\n",
       "      <td>AZ</td>\n",
       "      <td>27.65</td>\n",
       "      <td>0</td>\n",
       "      <td>0.0</td>\n",
       "    </tr>\n",
       "    <tr>\n",
       "      <th>1</th>\n",
       "      <td>2500</td>\n",
       "      <td>60 months</td>\n",
       "      <td>15.27</td>\n",
       "      <td>59.83</td>\n",
       "      <td>C</td>\n",
       "      <td>C4</td>\n",
       "      <td>Ryder</td>\n",
       "      <td>&lt; 1 year</td>\n",
       "      <td>RENT</td>\n",
       "      <td>30000.0</td>\n",
       "      <td>...</td>\n",
       "      <td>Dec-11</td>\n",
       "      <td>Charged Off</td>\n",
       "      <td>True</td>\n",
       "      <td>car</td>\n",
       "      <td>bike</td>\n",
       "      <td>309xx</td>\n",
       "      <td>GA</td>\n",
       "      <td>1.00</td>\n",
       "      <td>0</td>\n",
       "      <td>0.0</td>\n",
       "    </tr>\n",
       "    <tr>\n",
       "      <th>2</th>\n",
       "      <td>2400</td>\n",
       "      <td>36 months</td>\n",
       "      <td>15.96</td>\n",
       "      <td>84.33</td>\n",
       "      <td>C</td>\n",
       "      <td>C5</td>\n",
       "      <td>NaN</td>\n",
       "      <td>10+ years</td>\n",
       "      <td>RENT</td>\n",
       "      <td>12252.0</td>\n",
       "      <td>...</td>\n",
       "      <td>Dec-11</td>\n",
       "      <td>Fully Paid</td>\n",
       "      <td>True</td>\n",
       "      <td>small_business</td>\n",
       "      <td>real estate business</td>\n",
       "      <td>606xx</td>\n",
       "      <td>IL</td>\n",
       "      <td>8.72</td>\n",
       "      <td>0</td>\n",
       "      <td>0.0</td>\n",
       "    </tr>\n",
       "    <tr>\n",
       "      <th>3</th>\n",
       "      <td>10000</td>\n",
       "      <td>36 months</td>\n",
       "      <td>13.49</td>\n",
       "      <td>339.31</td>\n",
       "      <td>C</td>\n",
       "      <td>C1</td>\n",
       "      <td>AIR RESOURCES BOARD</td>\n",
       "      <td>10+ years</td>\n",
       "      <td>RENT</td>\n",
       "      <td>49200.0</td>\n",
       "      <td>...</td>\n",
       "      <td>Dec-11</td>\n",
       "      <td>Fully Paid</td>\n",
       "      <td>True</td>\n",
       "      <td>other</td>\n",
       "      <td>personel</td>\n",
       "      <td>917xx</td>\n",
       "      <td>CA</td>\n",
       "      <td>20.00</td>\n",
       "      <td>0</td>\n",
       "      <td>0.0</td>\n",
       "    </tr>\n",
       "    <tr>\n",
       "      <th>4</th>\n",
       "      <td>3000</td>\n",
       "      <td>60 months</td>\n",
       "      <td>12.69</td>\n",
       "      <td>67.79</td>\n",
       "      <td>B</td>\n",
       "      <td>B5</td>\n",
       "      <td>University Medical Group</td>\n",
       "      <td>1 year</td>\n",
       "      <td>RENT</td>\n",
       "      <td>80000.0</td>\n",
       "      <td>...</td>\n",
       "      <td>Dec-11</td>\n",
       "      <td>Current</td>\n",
       "      <td>True</td>\n",
       "      <td>other</td>\n",
       "      <td>Personal</td>\n",
       "      <td>972xx</td>\n",
       "      <td>OR</td>\n",
       "      <td>17.94</td>\n",
       "      <td>0</td>\n",
       "      <td>0.0</td>\n",
       "    </tr>\n",
       "  </tbody>\n",
       "</table>\n",
       "<p>5 rows × 21 columns</p>\n",
       "</div>"
      ],
      "text/plain": [
       "   loan_amnt        term  int_rate  installment grade sub_grade  \\\n",
       "0       5000   36 months     10.65       162.87     B        B2   \n",
       "1       2500   60 months     15.27        59.83     C        C4   \n",
       "2       2400   36 months     15.96        84.33     C        C5   \n",
       "3      10000   36 months     13.49       339.31     C        C1   \n",
       "4       3000   60 months     12.69        67.79     B        B5   \n",
       "\n",
       "                  emp_title emp_length home_ownership  annual_inc  ...  \\\n",
       "0                       NaN  10+ years           RENT     24000.0  ...   \n",
       "1                     Ryder   < 1 year           RENT     30000.0  ...   \n",
       "2                       NaN  10+ years           RENT     12252.0  ...   \n",
       "3       AIR RESOURCES BOARD  10+ years           RENT     49200.0  ...   \n",
       "4  University Medical Group     1 year           RENT     80000.0  ...   \n",
       "\n",
       "  issue_d  loan_status pymnt_plan         purpose                 title  \\\n",
       "0  Dec-11   Fully Paid       True     credit_card              Computer   \n",
       "1  Dec-11  Charged Off       True             car                  bike   \n",
       "2  Dec-11   Fully Paid       True  small_business  real estate business   \n",
       "3  Dec-11   Fully Paid       True           other              personel   \n",
       "4  Dec-11      Current       True           other              Personal   \n",
       "\n",
       "  zip_code addr_state    dti  acc_now_delinq  chargeoff_within_12_mths  \n",
       "0    860xx         AZ  27.65               0                       0.0  \n",
       "1    309xx         GA   1.00               0                       0.0  \n",
       "2    606xx         IL   8.72               0                       0.0  \n",
       "3    917xx         CA  20.00               0                       0.0  \n",
       "4    972xx         OR  17.94               0                       0.0  \n",
       "\n",
       "[5 rows x 21 columns]"
      ]
     },
     "execution_count": 13,
     "metadata": {},
     "output_type": "execute_result"
    }
   ],
   "source": [
    "df.head()"
   ]
  },
  {
   "cell_type": "code",
   "execution_count": 14,
   "metadata": {},
   "outputs": [],
   "source": [
    "#convert to int datatype\n",
    "\n",
    "df['annual_inc'] = df['annual_inc'].astype('int64')"
   ]
  },
  {
   "cell_type": "code",
   "execution_count": 15,
   "metadata": {},
   "outputs": [],
   "source": [
    "#Data Dictionary: loan_status - Current status of the loan\n",
    "#remove the records where loan status is current as they may or may turn into defaulters in future\n",
    "\n",
    "df = df[df[\"loan_status\"]!=\"Current\"]"
   ]
  },
  {
   "cell_type": "markdown",
   "metadata": {},
   "source": [
    "### Univariant Analysis"
   ]
  },
  {
   "cell_type": "code",
   "execution_count": 16,
   "metadata": {},
   "outputs": [
    {
     "data": {
      "image/png": "[encoded data removed]",
      "text/plain": [
       "<Figure size 432x288 with 1 Axes>"
      ]
     },
     "metadata": {
      "needs_background": "light"
     },
     "output_type": "display_data"
    },
    {
     "name": "stdout",
     "output_type": "stream",
     "text": [
      "mean: 68777.9671565959\n",
      "median: 58868.0\n",
      "mode: 0    60000\n",
      "dtype: int64\n",
      "std: 64218.6823944682\n",
      "quantile_25: 40000.0\n",
      "quantile_50: 58868.0\n",
      "quantile_75: 82000.0\n",
      "quantile_100: 30000.0\n",
      "No of Records with outliers: 38577\n"
     ]
    },
    {
     "data": {
      "image/png": "[encoded data removed]",
      "text/plain": [
       "<Figure size 432x288 with 1 Axes>"
      ]
     },
     "metadata": {
      "needs_background": "light"
     },
     "output_type": "display_data"
    },
    {
     "name": "stdout",
     "output_type": "stream",
     "text": [
      "mean_removeoutliers: 66543.51405444797\n",
      "median: 58187.0\n",
      "mode: 0    60000\n",
      "dtype: int64\n",
      "std: 38494.14070168641\n",
      "quantile_25: 40000.0\n",
      "quantile_50: 58187.0\n",
      "quantile_75: 81600.0\n",
      "quantile_100: 30000.0\n",
      "No of Records without outliers: 38422\n"
     ]
    },
    {
     "data": {
      "text/plain": [
       "<AxesSubplot:ylabel='Density'>"
      ]
     },
     "execution_count": 16,
     "metadata": {},
     "output_type": "execute_result"
    },
    {
     "data": {
      "image/png": "[encoded data removed]",
      "text/plain": [
       "<Figure size 360x360 with 1 Axes>"
      ]
     },
     "metadata": {
      "needs_background": "light"
     },
     "output_type": "display_data"
    }
   ],
   "source": [
    "#import libraries for graphs\n",
    "\n",
    "import matplotlib.pyplot as plt\n",
    "import seaborn as sns\n",
    "\n",
    "#Data Dictionary: annual_inc - The self-reported annual income provided by the borrower during registration.\n",
    "#Assumption: Annual income reported is accurate and verified from documentation provided.  \n",
    "\n",
    "#Quantative Variable : annual_inc\n",
    "\n",
    "plt.scatter(df.index,df[\"annual_inc\"])\n",
    "plt.show()\n",
    "\n",
    "# From the scatter plot we see there are 2 outliers in the dataframe which has annual income 3900000 & 6000000\n",
    "# Statistical numbers based on data with outliers\n",
    "print(\"mean:\", df[\"annual_inc\"].mean())\n",
    "print(\"median:\",df[\"annual_inc\"].median())\n",
    "print(\"mode:\",df[\"annual_inc\"].mode())\n",
    "print(\"std:\",df[\"annual_inc\"].std())\n",
    "print(\"quantile_25:\",df[\"annual_inc\"].quantile(.25))\n",
    "print(\"quantile_50:\",df[\"annual_inc\"].quantile(.50))\n",
    "print(\"quantile_75:\",df[\"annual_inc\"].quantile(.75))\n",
    "print(\"quantile_100:\",df[\"annual_inc\"].quantile(.1))\n",
    "\n",
    "print(\"No of Records with outliers:\", df[\"annual_inc\"].count())\n",
    "\n",
    "#remove the outliers from the dataframe, 0.99 percentile is decided based on scatter plot distribution\n",
    "df = df[df[\"annual_inc\"] < df['annual_inc'].quantile(0.996) ]\n",
    "\n",
    "plt.scatter(df.index,df[\"annual_inc\"])\n",
    "plt.show()\n",
    "\n",
    "# Statistical numbers based on data with-out outliers\n",
    "print(\"mean_removeoutliers:\", df[\"annual_inc\"].mean())\n",
    "print(\"median:\",df[\"annual_inc\"].median())\n",
    "print(\"mode:\",df[\"annual_inc\"].mode())\n",
    "print(\"std:\",df[\"annual_inc\"].std())\n",
    "print(\"quantile_25:\",df[\"annual_inc\"].quantile(.25))\n",
    "print(\"quantile_50:\",df[\"annual_inc\"].quantile(.50))\n",
    "print(\"quantile_75:\",df[\"annual_inc\"].quantile(.75))\n",
    "print(\"quantile_100:\",df[\"annual_inc\"].quantile(.1))\n",
    "print(\"No of Records without outliers:\",df[\"annual_inc\"].count())\n",
    "\n",
    "plt.figure(figsize = (5,5))\n",
    "df[\"annual_inc\"].plot(kind = 'density')"
   ]
  },
  {
   "cell_type": "code",
   "execution_count": 17,
   "metadata": {},
   "outputs": [
    {
     "data": {
      "text/plain": [
       "(3999.999, 40000.0]    9698\n",
       "(58187.0, 81600.0]     9607\n",
       "(81600.0, 316800.0]    9604\n",
       "(40000.0, 58187.0]     9513\n",
       "Name: annual_inc_group, dtype: int64"
      ]
     },
     "execution_count": 17,
     "metadata": {},
     "output_type": "execute_result"
    }
   ],
   "source": [
    "#Binning for annual income group for analysis\n",
    "\n",
    "df.loc[:,\"annual_inc_group\"] = pd.qcut(df[\"annual_inc\"],q=4)\n",
    "df[\"annual_inc_group\"].value_counts()\n"
   ]
  },
  {
   "cell_type": "code",
   "execution_count": 18,
   "metadata": {},
   "outputs": [
    {
     "data": {
      "image/png": "[encoded data removed]",
      "text/plain": [
       "<Figure size 432x288 with 1 Axes>"
      ]
     },
     "metadata": {
      "needs_background": "light"
     },
     "output_type": "display_data"
    },
    {
     "name": "stdout",
     "output_type": "stream",
     "text": [
      "mean: 321.6158521159725\n",
      "median: 277.425\n",
      "mode: 0    311.11\n",
      "dtype: float64\n",
      "std: 207.63848710905035\n",
      "quantile_25: 165.67\n",
      "quantile_50: 277.425\n",
      "quantile_75: 424.2825\n",
      "quantile_100: 98.95100000000001\n"
     ]
    },
    {
     "data": {
      "text/plain": [
       "<AxesSubplot:ylabel='Density'>"
      ]
     },
     "execution_count": 18,
     "metadata": {},
     "output_type": "execute_result"
    },
    {
     "data": {
      "image/png": "[encoded data removed]",
      "text/plain": [
       "<Figure size 360x360 with 1 Axes>"
      ]
     },
     "metadata": {
      "needs_background": "light"
     },
     "output_type": "display_data"
    }
   ],
   "source": [
    "#Data Dictionary: installment - The monthly payment owed by the borrower if the loan originates.\n",
    "plt.scatter(df.index,df[\"installment\"])\n",
    "plt.show()\n",
    "\n",
    "\n",
    "# From the scatter plot we dont see any outliers to confirm the same lets check statistical numbers\n",
    "print(\"mean:\", df[\"installment\"].mean())\n",
    "print(\"median:\",df[\"installment\"].median())\n",
    "print(\"mode:\",df[\"installment\"].mode())\n",
    "print(\"std:\",df[\"installment\"].std())\n",
    "print(\"quantile_25:\",df[\"installment\"].quantile(.25))\n",
    "print(\"quantile_50:\",df[\"installment\"].quantile(.50))\n",
    "print(\"quantile_75:\",df[\"installment\"].quantile(.75))\n",
    "print(\"quantile_100:\",df[\"installment\"].quantile(.1))\n",
    "\n",
    "\n",
    "plt.figure(figsize = (5,5))\n",
    "df[\"installment\"].plot(kind = 'density')"
   ]
  },
  {
   "cell_type": "code",
   "execution_count": 19,
   "metadata": {},
   "outputs": [
    {
     "data": {
      "image/png": "[encoded data removed]",
      "text/plain": [
       "<Figure size 432x288 with 1 Axes>"
      ]
     },
     "metadata": {
      "needs_background": "light"
     },
     "output_type": "display_data"
    }
   ],
   "source": [
    "#Data Dictionary: int_rate - Interest Rate on the loan\n",
    "\n",
    "plt.scatter(df.index ,df[\"int_rate\"])\n",
    "plt.show()"
   ]
  },
  {
   "cell_type": "code",
   "execution_count": 20,
   "metadata": {},
   "outputs": [
    {
     "data": {
      "text/html": [
       "<div>\n",
       "<style scoped>\n",
       "    .dataframe tbody tr th:only-of-type {\n",
       "        vertical-align: middle;\n",
       "    }\n",
       "\n",
       "    .dataframe tbody tr th {\n",
       "        vertical-align: top;\n",
       "    }\n",
       "\n",
       "    .dataframe thead th {\n",
       "        text-align: right;\n",
       "    }\n",
       "</style>\n",
       "<table border=\"1\" class=\"dataframe\">\n",
       "  <thead>\n",
       "    <tr style=\"text-align: right;\">\n",
       "      <th></th>\n",
       "      <th>loan_amnt</th>\n",
       "      <th>term</th>\n",
       "      <th>int_rate</th>\n",
       "      <th>installment</th>\n",
       "      <th>grade</th>\n",
       "      <th>sub_grade</th>\n",
       "      <th>emp_title</th>\n",
       "      <th>emp_length</th>\n",
       "      <th>home_ownership</th>\n",
       "      <th>annual_inc</th>\n",
       "      <th>...</th>\n",
       "      <th>pymnt_plan</th>\n",
       "      <th>purpose</th>\n",
       "      <th>title</th>\n",
       "      <th>zip_code</th>\n",
       "      <th>addr_state</th>\n",
       "      <th>dti</th>\n",
       "      <th>acc_now_delinq</th>\n",
       "      <th>chargeoff_within_12_mths</th>\n",
       "      <th>annual_inc_group</th>\n",
       "      <th>emp_exp</th>\n",
       "    </tr>\n",
       "  </thead>\n",
       "  <tbody>\n",
       "    <tr>\n",
       "      <th>39716</th>\n",
       "      <td>7500</td>\n",
       "      <td>36 months</td>\n",
       "      <td>13.75</td>\n",
       "      <td>255.43</td>\n",
       "      <td>E</td>\n",
       "      <td>E2</td>\n",
       "      <td>Evergreen Center</td>\n",
       "      <td>&lt; 1 year</td>\n",
       "      <td>OWN</td>\n",
       "      <td>22000</td>\n",
       "      <td>...</td>\n",
       "      <td>True</td>\n",
       "      <td>debt_consolidation</td>\n",
       "      <td>Consolidation Loan</td>\n",
       "      <td>027xx</td>\n",
       "      <td>MA</td>\n",
       "      <td>14.29</td>\n",
       "      <td>0</td>\n",
       "      <td>NaN</td>\n",
       "      <td>(3999.999, 40000.0]</td>\n",
       "      <td>Fresher</td>\n",
       "    </tr>\n",
       "    <tr>\n",
       "      <th>28986</th>\n",
       "      <td>3000</td>\n",
       "      <td>36 months</td>\n",
       "      <td>14.35</td>\n",
       "      <td>103.05</td>\n",
       "      <td>C</td>\n",
       "      <td>C4</td>\n",
       "      <td>Home Depot</td>\n",
       "      <td>&lt; 1 year</td>\n",
       "      <td>RENT</td>\n",
       "      <td>21600</td>\n",
       "      <td>...</td>\n",
       "      <td>True</td>\n",
       "      <td>moving</td>\n",
       "      <td>ADrew</td>\n",
       "      <td>430xx</td>\n",
       "      <td>OH</td>\n",
       "      <td>16.61</td>\n",
       "      <td>0</td>\n",
       "      <td>0.0</td>\n",
       "      <td>(3999.999, 40000.0]</td>\n",
       "      <td>Fresher</td>\n",
       "    </tr>\n",
       "    <tr>\n",
       "      <th>29000</th>\n",
       "      <td>3000</td>\n",
       "      <td>36 months</td>\n",
       "      <td>11.49</td>\n",
       "      <td>98.92</td>\n",
       "      <td>B</td>\n",
       "      <td>B4</td>\n",
       "      <td>After School Programs  Inc.</td>\n",
       "      <td>&lt; 1 year</td>\n",
       "      <td>RENT</td>\n",
       "      <td>24996</td>\n",
       "      <td>...</td>\n",
       "      <td>True</td>\n",
       "      <td>other</td>\n",
       "      <td>The Wright Team</td>\n",
       "      <td>323xx</td>\n",
       "      <td>FL</td>\n",
       "      <td>5.38</td>\n",
       "      <td>0</td>\n",
       "      <td>0.0</td>\n",
       "      <td>(3999.999, 40000.0]</td>\n",
       "      <td>Fresher</td>\n",
       "    </tr>\n",
       "    <tr>\n",
       "      <th>29003</th>\n",
       "      <td>10000</td>\n",
       "      <td>60 months</td>\n",
       "      <td>7.88</td>\n",
       "      <td>186.53</td>\n",
       "      <td>A</td>\n",
       "      <td>A5</td>\n",
       "      <td>Boston ABA</td>\n",
       "      <td>&lt; 1 year</td>\n",
       "      <td>RENT</td>\n",
       "      <td>46800</td>\n",
       "      <td>...</td>\n",
       "      <td>True</td>\n",
       "      <td>wedding</td>\n",
       "      <td>Help us pay for our wedding back home!</td>\n",
       "      <td>017xx</td>\n",
       "      <td>MA</td>\n",
       "      <td>22.15</td>\n",
       "      <td>0</td>\n",
       "      <td>0.0</td>\n",
       "      <td>(40000.0, 58187.0]</td>\n",
       "      <td>Fresher</td>\n",
       "    </tr>\n",
       "    <tr>\n",
       "      <th>29004</th>\n",
       "      <td>2500</td>\n",
       "      <td>36 months</td>\n",
       "      <td>13.61</td>\n",
       "      <td>84.98</td>\n",
       "      <td>C</td>\n",
       "      <td>C2</td>\n",
       "      <td>Brownsville Multi Services BCAP</td>\n",
       "      <td>&lt; 1 year</td>\n",
       "      <td>RENT</td>\n",
       "      <td>27000</td>\n",
       "      <td>...</td>\n",
       "      <td>True</td>\n",
       "      <td>home_improvement</td>\n",
       "      <td>Blessings</td>\n",
       "      <td>112xx</td>\n",
       "      <td>NY</td>\n",
       "      <td>1.87</td>\n",
       "      <td>0</td>\n",
       "      <td>0.0</td>\n",
       "      <td>(3999.999, 40000.0]</td>\n",
       "      <td>Fresher</td>\n",
       "    </tr>\n",
       "    <tr>\n",
       "      <th>...</th>\n",
       "      <td>...</td>\n",
       "      <td>...</td>\n",
       "      <td>...</td>\n",
       "      <td>...</td>\n",
       "      <td>...</td>\n",
       "      <td>...</td>\n",
       "      <td>...</td>\n",
       "      <td>...</td>\n",
       "      <td>...</td>\n",
       "      <td>...</td>\n",
       "      <td>...</td>\n",
       "      <td>...</td>\n",
       "      <td>...</td>\n",
       "      <td>...</td>\n",
       "      <td>...</td>\n",
       "      <td>...</td>\n",
       "      <td>...</td>\n",
       "      <td>...</td>\n",
       "      <td>...</td>\n",
       "      <td>...</td>\n",
       "      <td>...</td>\n",
       "    </tr>\n",
       "    <tr>\n",
       "      <th>21589</th>\n",
       "      <td>6000</td>\n",
       "      <td>36 months</td>\n",
       "      <td>6.54</td>\n",
       "      <td>184.01</td>\n",
       "      <td>A</td>\n",
       "      <td>A4</td>\n",
       "      <td>NaN</td>\n",
       "      <td>NaN</td>\n",
       "      <td>OWN</td>\n",
       "      <td>19200</td>\n",
       "      <td>...</td>\n",
       "      <td>True</td>\n",
       "      <td>debt_consolidation</td>\n",
       "      <td>personal loan</td>\n",
       "      <td>922xx</td>\n",
       "      <td>CA</td>\n",
       "      <td>12.31</td>\n",
       "      <td>0</td>\n",
       "      <td>0.0</td>\n",
       "      <td>(3999.999, 40000.0]</td>\n",
       "      <td>Not Specified</td>\n",
       "    </tr>\n",
       "    <tr>\n",
       "      <th>31942</th>\n",
       "      <td>2500</td>\n",
       "      <td>36 months</td>\n",
       "      <td>10.62</td>\n",
       "      <td>81.40</td>\n",
       "      <td>B</td>\n",
       "      <td>B3</td>\n",
       "      <td>NaN</td>\n",
       "      <td>NaN</td>\n",
       "      <td>RENT</td>\n",
       "      <td>26400</td>\n",
       "      <td>...</td>\n",
       "      <td>True</td>\n",
       "      <td>other</td>\n",
       "      <td>My Vacation</td>\n",
       "      <td>490xx</td>\n",
       "      <td>MI</td>\n",
       "      <td>21.64</td>\n",
       "      <td>0</td>\n",
       "      <td>0.0</td>\n",
       "      <td>(3999.999, 40000.0]</td>\n",
       "      <td>Not Specified</td>\n",
       "    </tr>\n",
       "    <tr>\n",
       "      <th>8034</th>\n",
       "      <td>5800</td>\n",
       "      <td>36 months</td>\n",
       "      <td>5.99</td>\n",
       "      <td>176.43</td>\n",
       "      <td>A</td>\n",
       "      <td>A2</td>\n",
       "      <td>NaN</td>\n",
       "      <td>NaN</td>\n",
       "      <td>MORTGAGE</td>\n",
       "      <td>24000</td>\n",
       "      <td>...</td>\n",
       "      <td>True</td>\n",
       "      <td>house</td>\n",
       "      <td>home improvemnt</td>\n",
       "      <td>325xx</td>\n",
       "      <td>FL</td>\n",
       "      <td>13.30</td>\n",
       "      <td>0</td>\n",
       "      <td>0.0</td>\n",
       "      <td>(3999.999, 40000.0]</td>\n",
       "      <td>Not Specified</td>\n",
       "    </tr>\n",
       "    <tr>\n",
       "      <th>24421</th>\n",
       "      <td>13500</td>\n",
       "      <td>36 months</td>\n",
       "      <td>6.17</td>\n",
       "      <td>411.74</td>\n",
       "      <td>A</td>\n",
       "      <td>A3</td>\n",
       "      <td>NaN</td>\n",
       "      <td>NaN</td>\n",
       "      <td>MORTGAGE</td>\n",
       "      <td>47400</td>\n",
       "      <td>...</td>\n",
       "      <td>True</td>\n",
       "      <td>credit_card</td>\n",
       "      <td>Wells Refi</td>\n",
       "      <td>960xx</td>\n",
       "      <td>CA</td>\n",
       "      <td>21.39</td>\n",
       "      <td>0</td>\n",
       "      <td>0.0</td>\n",
       "      <td>(40000.0, 58187.0]</td>\n",
       "      <td>Not Specified</td>\n",
       "    </tr>\n",
       "    <tr>\n",
       "      <th>10995</th>\n",
       "      <td>5000</td>\n",
       "      <td>36 months</td>\n",
       "      <td>8.49</td>\n",
       "      <td>157.82</td>\n",
       "      <td>A</td>\n",
       "      <td>A5</td>\n",
       "      <td>NaN</td>\n",
       "      <td>NaN</td>\n",
       "      <td>RENT</td>\n",
       "      <td>19140</td>\n",
       "      <td>...</td>\n",
       "      <td>True</td>\n",
       "      <td>debt_consolidation</td>\n",
       "      <td>consolidation</td>\n",
       "      <td>195xx</td>\n",
       "      <td>PA</td>\n",
       "      <td>9.78</td>\n",
       "      <td>0</td>\n",
       "      <td>0.0</td>\n",
       "      <td>(3999.999, 40000.0]</td>\n",
       "      <td>Not Specified</td>\n",
       "    </tr>\n",
       "  </tbody>\n",
       "</table>\n",
       "<p>38422 rows × 23 columns</p>\n",
       "</div>"
      ],
      "text/plain": [
       "       loan_amnt        term  int_rate  installment grade sub_grade  \\\n",
       "39716       7500   36 months     13.75       255.43     E        E2   \n",
       "28986       3000   36 months     14.35       103.05     C        C4   \n",
       "29000       3000   36 months     11.49        98.92     B        B4   \n",
       "29003      10000   60 months      7.88       186.53     A        A5   \n",
       "29004       2500   36 months     13.61        84.98     C        C2   \n",
       "...          ...         ...       ...          ...   ...       ...   \n",
       "21589       6000   36 months      6.54       184.01     A        A4   \n",
       "31942       2500   36 months     10.62        81.40     B        B3   \n",
       "8034        5800   36 months      5.99       176.43     A        A2   \n",
       "24421      13500   36 months      6.17       411.74     A        A3   \n",
       "10995       5000   36 months      8.49       157.82     A        A5   \n",
       "\n",
       "                             emp_title emp_length home_ownership  annual_inc  \\\n",
       "39716                 Evergreen Center   < 1 year            OWN       22000   \n",
       "28986                       Home Depot   < 1 year           RENT       21600   \n",
       "29000      After School Programs  Inc.   < 1 year           RENT       24996   \n",
       "29003                       Boston ABA   < 1 year           RENT       46800   \n",
       "29004  Brownsville Multi Services BCAP   < 1 year           RENT       27000   \n",
       "...                                ...        ...            ...         ...   \n",
       "21589                              NaN        NaN            OWN       19200   \n",
       "31942                              NaN        NaN           RENT       26400   \n",
       "8034                               NaN        NaN       MORTGAGE       24000   \n",
       "24421                              NaN        NaN       MORTGAGE       47400   \n",
       "10995                              NaN        NaN           RENT       19140   \n",
       "\n",
       "       ... pymnt_plan             purpose  \\\n",
       "39716  ...       True  debt_consolidation   \n",
       "28986  ...       True              moving   \n",
       "29000  ...       True               other   \n",
       "29003  ...       True             wedding   \n",
       "29004  ...       True    home_improvement   \n",
       "...    ...        ...                 ...   \n",
       "21589  ...       True  debt_consolidation   \n",
       "31942  ...       True               other   \n",
       "8034   ...       True               house   \n",
       "24421  ...       True         credit_card   \n",
       "10995  ...       True  debt_consolidation   \n",
       "\n",
       "                                        title  zip_code addr_state    dti  \\\n",
       "39716                      Consolidation Loan     027xx         MA  14.29   \n",
       "28986                                   ADrew     430xx         OH  16.61   \n",
       "29000                         The Wright Team     323xx         FL   5.38   \n",
       "29003  Help us pay for our wedding back home!     017xx         MA  22.15   \n",
       "29004                               Blessings     112xx         NY   1.87   \n",
       "...                                       ...       ...        ...    ...   \n",
       "21589                           personal loan     922xx         CA  12.31   \n",
       "31942                             My Vacation     490xx         MI  21.64   \n",
       "8034                          home improvemnt     325xx         FL  13.30   \n",
       "24421                              Wells Refi     960xx         CA  21.39   \n",
       "10995                           consolidation     195xx         PA   9.78   \n",
       "\n",
       "      acc_now_delinq chargeoff_within_12_mths     annual_inc_group  \\\n",
       "39716              0                      NaN  (3999.999, 40000.0]   \n",
       "28986              0                      0.0  (3999.999, 40000.0]   \n",
       "29000              0                      0.0  (3999.999, 40000.0]   \n",
       "29003              0                      0.0   (40000.0, 58187.0]   \n",
       "29004              0                      0.0  (3999.999, 40000.0]   \n",
       "...              ...                      ...                  ...   \n",
       "21589              0                      0.0  (3999.999, 40000.0]   \n",
       "31942              0                      0.0  (3999.999, 40000.0]   \n",
       "8034               0                      0.0  (3999.999, 40000.0]   \n",
       "24421              0                      0.0   (40000.0, 58187.0]   \n",
       "10995              0                      0.0  (3999.999, 40000.0]   \n",
       "\n",
       "             emp_exp  \n",
       "39716        Fresher  \n",
       "28986        Fresher  \n",
       "29000        Fresher  \n",
       "29003        Fresher  \n",
       "29004        Fresher  \n",
       "...              ...  \n",
       "21589  Not Specified  \n",
       "31942  Not Specified  \n",
       "8034   Not Specified  \n",
       "24421  Not Specified  \n",
       "10995  Not Specified  \n",
       "\n",
       "[38422 rows x 23 columns]"
      ]
     },
     "execution_count": 20,
     "metadata": {},
     "output_type": "execute_result"
    }
   ],
   "source": [
    "#Binning for employee experience for analysis\n",
    "\n",
    "Fresher = ['< 1 year']\n",
    "Junior = ['1 year','2 years','3 years','4 years']\n",
    "Senior = ['5 years','6 years','7 years','8 years','9 years']\n",
    "Professional =['10+ years']\n",
    "\n",
    "\n",
    "conditions = [\n",
    "    (df['emp_length'].isin(Fresher)),\n",
    "    (df['emp_length'].isin(Junior)),\n",
    "    (df['emp_length'].isin(Senior)),\n",
    "    (df['emp_length'].isin(Professional)),\n",
    "    (df['emp_length'].isna())\n",
    "    ]\n",
    "\n",
    "values = ['Fresher','Junior','Senior','Professional','Not Specified']\n",
    "\n",
    "df[\"emp_exp\"] = np.select(conditions, values)\n",
    "\n",
    "#Sort as per experience levels on employee experience bin\n",
    "custom_dict = {'Fresher':0, 'Junior':1, 'Senior':2, 'Professional':3, 'Not Specified':4 }  \n",
    "df['emp_exp'] = pd.Categorical(df['emp_exp'], ['Fresher','Junior','Senior','Professional','Not Specified'])\n",
    "df.sort_values(\"emp_exp\")\n",
    "#df.head()"
   ]
  },
  {
   "cell_type": "code",
   "execution_count": 21,
   "metadata": {},
   "outputs": [
    {
     "data": {
      "text/plain": [
       "<AxesSubplot:>"
      ]
     },
     "execution_count": 21,
     "metadata": {},
     "output_type": "execute_result"
    },
    {
     "data": {
      "image/png": "[encoded data removed]",
      "text/plain": [
       "<Figure size 432x288 with 1 Axes>"
      ]
     },
     "metadata": {
      "needs_background": "light"
     },
     "output_type": "display_data"
    }
   ],
   "source": [
    "#Biining on applicats employment duration/length\n",
    "\n",
    "df[\"emp_exp\"].sort_values(ascending = True).hist()\n",
    "\n",
    "#Observation: juniors who have 1-4 yrs of experience are the highest loan seekers."
   ]
  },
  {
   "cell_type": "code",
   "execution_count": 22,
   "metadata": {},
   "outputs": [
    {
     "data": {
      "text/plain": [
       "<AxesSubplot:ylabel='purpose'>"
      ]
     },
     "execution_count": 22,
     "metadata": {},
     "output_type": "execute_result"
    },
    {
     "data": {
      "image/png": "[encoded data removed]",
      "text/plain": [
       "<Figure size 432x288 with 1 Axes>"
      ]
     },
     "metadata": {},
     "output_type": "display_data"
    }
   ],
   "source": [
    "#Data Dictionary: purpose - A category provided by the borrower for the loan request. \n",
    "\n",
    "(df[\"purpose\"].value_counts(1)*100).plot(kind = 'pie')\n",
    "\n",
    "#Observation: A large proportion applicants are applying loan for debt consolidation"
   ]
  },
  {
   "cell_type": "code",
   "execution_count": 23,
   "metadata": {},
   "outputs": [
    {
     "data": {
      "text/plain": [
       "<AxesSubplot:>"
      ]
     },
     "execution_count": 23,
     "metadata": {},
     "output_type": "execute_result"
    },
    {
     "data": {
      "image/png": "[encoded data removed]",
      "text/plain": [
       "<Figure size 432x288 with 1 Axes>"
      ]
     },
     "metadata": {
      "needs_background": "light"
     },
     "output_type": "display_data"
    }
   ],
   "source": [
    "#Data Dictionary: grade - LC assigned loan grade\n",
    "df[\"grade\"].sort_values().hist()\n",
    "\n",
    "#Observation : B Grade applications are the highest followed by A, C, D, E, F & G"
   ]
  },
  {
   "cell_type": "code",
   "execution_count": 24,
   "metadata": {},
   "outputs": [
    {
     "data": {
      "text/plain": [
       "<AxesSubplot:>"
      ]
     },
     "execution_count": 24,
     "metadata": {},
     "output_type": "execute_result"
    },
    {
     "data": {
      "image/png": "[encoded data removed]",
      "text/plain": [
       "<Figure size 432x288 with 1 Axes>"
      ]
     },
     "metadata": {
      "needs_background": "light"
     },
     "output_type": "display_data"
    }
   ],
   "source": [
    "#Data Dictionary: sub_grade - LC assigned loan subgrade\n",
    "\n",
    "df[\"sub_grade\"].sort_values().hist()\n",
    "\n",
    "#Observation: B3-C1 has the highest applicants followed by A1-B2"
   ]
  },
  {
   "cell_type": "code",
   "execution_count": 25,
   "metadata": {},
   "outputs": [
    {
     "data": {
      "text/plain": [
       "<AxesSubplot:ylabel='term'>"
      ]
     },
     "execution_count": 25,
     "metadata": {},
     "output_type": "execute_result"
    },
    {
     "data": {
      "image/png": "[encoded data removed]",
      "text/plain": [
       "<Figure size 432x288 with 1 Axes>"
      ]
     },
     "metadata": {},
     "output_type": "display_data"
    }
   ],
   "source": [
    "#Data Dictionary: term - The number of payments on the loan. Values are in months and can be either 36 or 60.\n",
    "(df[\"term\"].value_counts(1)*100).plot(kind = 'pie')\n",
    "\n",
    "#Observation: most of the loans are 36 months tenure."
   ]
  },
  {
   "cell_type": "code",
   "execution_count": 26,
   "metadata": {},
   "outputs": [
    {
     "data": {
      "text/plain": [
       "<AxesSubplot:ylabel='loan_status'>"
      ]
     },
     "execution_count": 26,
     "metadata": {},
     "output_type": "execute_result"
    },
    {
     "data": {
      "image/png": "[encoded data removed]",
      "text/plain": [
       "<Figure size 432x288 with 1 Axes>"
      ]
     },
     "metadata": {},
     "output_type": "display_data"
    }
   ],
   "source": [
    "(df[\"loan_status\"].value_counts(1)*100).plot(kind = 'pie')\n",
    "\n",
    "#Observation: most of the loans are fully paid"
   ]
  },
  {
   "cell_type": "code",
   "execution_count": 27,
   "metadata": {},
   "outputs": [
    {
     "data": {
      "text/plain": [
       "<AxesSubplot:>"
      ]
     },
     "execution_count": 27,
     "metadata": {},
     "output_type": "execute_result"
    },
    {
     "data": {
      "image/png": "[encoded data removed]",
      "text/plain": [
       "<Figure size 432x288 with 1 Axes>"
      ]
     },
     "metadata": {
      "needs_background": "light"
     },
     "output_type": "display_data"
    }
   ],
   "source": [
    "#Data Dictionary:home_ownership - The home ownership status provided by the borrower during registration. Our values are: RENT, OWN, MORTGAGE, OTHER.\n",
    "\n",
    "df[\"home_ownership\"].sort_values(ascending = True).hist()\n",
    "\n",
    "#Observation : based on the graph below there are larger applicants who rent/mortgage, there are very few home owners "
   ]
  },
  {
   "cell_type": "code",
   "execution_count": 28,
   "metadata": {},
   "outputs": [
    {
     "data": {
      "text/plain": [
       "<AxesSubplot:ylabel='verification_status'>"
      ]
     },
     "execution_count": 28,
     "metadata": {},
     "output_type": "execute_result"
    },
    {
     "data": {
      "image/png": "[encoded data removed]",
      "text/plain": [
       "<Figure size 432x288 with 1 Axes>"
      ]
     },
     "metadata": {},
     "output_type": "display_data"
    }
   ],
   "source": [
    "#Data Dictionary: verification_status - Indicates if income was verified by LC, not verified, or if the income source was verified\n",
    "\n",
    "(df[\"verification_status\"].value_counts(1)*100).plot(kind = 'pie')\n",
    "\n",
    "#Observation : \"not verified\" applicants a bit larger compared to verified and source verified "
   ]
  },
  {
   "cell_type": "markdown",
   "metadata": {},
   "source": [
    "### Segmented Univariate Analysis"
   ]
  },
  {
   "cell_type": "code",
   "execution_count": 29,
   "metadata": {},
   "outputs": [
    {
     "data": {
      "image/png": "[encoded data removed]",
      "text/plain": [
       "<Figure size 432x288 with 1 Axes>"
      ]
     },
     "metadata": {
      "needs_background": "light"
     },
     "output_type": "display_data"
    },
    {
     "data": {
      "image/png": "[encoded data removed]",
      "text/plain": [
       "<Figure size 432x288 with 1 Axes>"
      ]
     },
     "metadata": {
      "needs_background": "light"
     },
     "output_type": "display_data"
    }
   ],
   "source": [
    "df[df[\"loan_status\"] == \"Fully Paid\"][\"loan_amnt\"].hist()\n",
    "df[df[\"loan_status\"] == \"Charged Off\"][\"loan_amnt\"].hist()\n",
    "plt.legend([\"Fully Paid\", \"Charged Off\"])\n",
    "plt.show()\n",
    "\n",
    "\n",
    "n, bins, patches = plt.hist(x = df['loan_status'])\n",
    "plt.xlabel(\"loan_amnt\")\n",
    "plt.show()\n",
    "\n",
    "#Observation: Charged off applicants have loan amount below 15k"
   ]
  },
  {
   "cell_type": "code",
   "execution_count": 30,
   "metadata": {},
   "outputs": [
    {
     "data": {
      "text/html": [
       "<div>\n",
       "<style scoped>\n",
       "    .dataframe tbody tr th:only-of-type {\n",
       "        vertical-align: middle;\n",
       "    }\n",
       "\n",
       "    .dataframe tbody tr th {\n",
       "        vertical-align: top;\n",
       "    }\n",
       "\n",
       "    .dataframe thead th {\n",
       "        text-align: right;\n",
       "    }\n",
       "</style>\n",
       "<table border=\"1\" class=\"dataframe\">\n",
       "  <thead>\n",
       "    <tr style=\"text-align: right;\">\n",
       "      <th>loan_status</th>\n",
       "      <th>Charged Off</th>\n",
       "      <th>Fully Paid</th>\n",
       "      <th>All</th>\n",
       "    </tr>\n",
       "    <tr>\n",
       "      <th>emp_exp</th>\n",
       "      <th></th>\n",
       "      <th></th>\n",
       "      <th></th>\n",
       "    </tr>\n",
       "  </thead>\n",
       "  <tbody>\n",
       "    <tr>\n",
       "      <th>Fresher</th>\n",
       "      <td>638</td>\n",
       "      <td>3861</td>\n",
       "      <td>4499</td>\n",
       "    </tr>\n",
       "    <tr>\n",
       "      <th>Junior</th>\n",
       "      <td>2031</td>\n",
       "      <td>12727</td>\n",
       "      <td>14758</td>\n",
       "    </tr>\n",
       "    <tr>\n",
       "      <th>Senior</th>\n",
       "      <td>1387</td>\n",
       "      <td>8314</td>\n",
       "      <td>9701</td>\n",
       "    </tr>\n",
       "    <tr>\n",
       "      <th>Professional</th>\n",
       "      <td>1324</td>\n",
       "      <td>7109</td>\n",
       "      <td>8433</td>\n",
       "    </tr>\n",
       "    <tr>\n",
       "      <th>Not Specified</th>\n",
       "      <td>227</td>\n",
       "      <td>804</td>\n",
       "      <td>1031</td>\n",
       "    </tr>\n",
       "    <tr>\n",
       "      <th>All</th>\n",
       "      <td>5607</td>\n",
       "      <td>32815</td>\n",
       "      <td>38422</td>\n",
       "    </tr>\n",
       "  </tbody>\n",
       "</table>\n",
       "</div>"
      ],
      "text/plain": [
       "loan_status    Charged Off  Fully Paid    All\n",
       "emp_exp                                      \n",
       "Fresher                638        3861   4499\n",
       "Junior                2031       12727  14758\n",
       "Senior                1387        8314   9701\n",
       "Professional          1324        7109   8433\n",
       "Not Specified          227         804   1031\n",
       "All                   5607       32815  38422"
      ]
     },
     "execution_count": 30,
     "metadata": {},
     "output_type": "execute_result"
    }
   ],
   "source": [
    "pd.crosstab(df['emp_exp'], df['loan_status'], margins = True)\n",
    "\n",
    "#Observation: Juniors who have 1-4 yrs of exp are highest applicants for loan which has highest applicants being charged off and fully paid."
   ]
  },
  {
   "cell_type": "code",
   "execution_count": 31,
   "metadata": {},
   "outputs": [
    {
     "data": {
      "text/plain": [
       "<AxesSubplot:xlabel='emp_exp'>"
      ]
     },
     "execution_count": 31,
     "metadata": {},
     "output_type": "execute_result"
    },
    {
     "data": {
      "image/png": "[encoded data removed]",
      "text/plain": [
       "<Figure size 432x288 with 1 Axes>"
      ]
     },
     "metadata": {
      "needs_background": "light"
     },
     "output_type": "display_data"
    }
   ],
   "source": [
    "avg_annual_inc = df.groupby(\"emp_exp\")[\"loan_amnt\"].mean()\n",
    "avg_annual_inc.plot(kind = \"bar\")\n",
    "\n",
    "#Observation: Professionals (10+ years) are the applicants who have taken highest average loan amount, followed by Seniors (5-9 yrs of exp), Junior (1-4 yrs of exp) & Fresher (<1 year) "
   ]
  },
  {
   "cell_type": "code",
   "execution_count": 32,
   "metadata": {},
   "outputs": [
    {
     "name": "stdout",
     "output_type": "stream",
     "text": [
      "              mean median   std amin   amax quantile25 quantile50 quantile75\n",
      "               dti    dti   dti  dti    dti        dti        dti        dti\n",
      "loan_status                                                                 \n",
      "Charged Off  14.03  14.33  6.57    0  29.85       9.11      19.30      19.30\n",
      "Fully Paid   13.18  13.23  6.67    0  29.99       8.03      18.43      18.43\n"
     ]
    },
    {
     "data": {
      "image/png": "[encoded data removed]",
      "text/plain": [
       "<Figure size 432x288 with 1 Axes>"
      ]
     },
     "metadata": {
      "needs_background": "light"
     },
     "output_type": "display_data"
    }
   ],
   "source": [
    "#Data Dictionary: dti - A ratio calculated using the borrower’s total monthly debt payments on the total debt obligations, excluding mortgage and the requested LC loan, divided by the borrower’s self-reported monthly income.\n",
    "\n",
    "def quantile25(x):\n",
    "    return np.percentile(x, 25)\n",
    "\n",
    "def quantile50(x):\n",
    "    return np.percentile(x, 75)\n",
    "\n",
    "def quantile75(x):\n",
    "    return np.percentile(x, 75)\n",
    "\n",
    "print(df.pivot_table(values = \"dti\", \n",
    "               index = \"loan_status\",               \n",
    "               fill_value = 0,\n",
    "               aggfunc=[np.mean, np.median, np.std, np.min, np.max, quantile25, quantile50, quantile75]).round(2))\n",
    "\n",
    "df.boxplot(column = ['dti'], by = 'loan_status')\n",
    "plt.show()\n",
    "\n",
    "#Observation : charged off applicants report higher percentage of income going to debts compared to fully paid"
   ]
  },
  {
   "cell_type": "code",
   "execution_count": 33,
   "metadata": {},
   "outputs": [
    {
     "data": {
      "text/html": [
       "<div>\n",
       "<style scoped>\n",
       "    .dataframe tbody tr th:only-of-type {\n",
       "        vertical-align: middle;\n",
       "    }\n",
       "\n",
       "    .dataframe tbody tr th {\n",
       "        vertical-align: top;\n",
       "    }\n",
       "\n",
       "    .dataframe thead th {\n",
       "        text-align: right;\n",
       "    }\n",
       "</style>\n",
       "<table border=\"1\" class=\"dataframe\">\n",
       "  <thead>\n",
       "    <tr style=\"text-align: right;\">\n",
       "      <th>loan_status</th>\n",
       "      <th>Charged Off</th>\n",
       "      <th>Fully Paid</th>\n",
       "      <th>All</th>\n",
       "    </tr>\n",
       "    <tr>\n",
       "      <th>purpose</th>\n",
       "      <th></th>\n",
       "      <th></th>\n",
       "      <th></th>\n",
       "    </tr>\n",
       "  </thead>\n",
       "  <tbody>\n",
       "    <tr>\n",
       "      <th>car</th>\n",
       "      <td>160</td>\n",
       "      <td>1339</td>\n",
       "      <td>1499</td>\n",
       "    </tr>\n",
       "    <tr>\n",
       "      <th>credit_card</th>\n",
       "      <td>541</td>\n",
       "      <td>4472</td>\n",
       "      <td>5013</td>\n",
       "    </tr>\n",
       "    <tr>\n",
       "      <th>debt_consolidation</th>\n",
       "      <td>2763</td>\n",
       "      <td>15238</td>\n",
       "      <td>18001</td>\n",
       "    </tr>\n",
       "    <tr>\n",
       "      <th>educational</th>\n",
       "      <td>56</td>\n",
       "      <td>268</td>\n",
       "      <td>324</td>\n",
       "    </tr>\n",
       "    <tr>\n",
       "      <th>home_improvement</th>\n",
       "      <td>342</td>\n",
       "      <td>2497</td>\n",
       "      <td>2839</td>\n",
       "    </tr>\n",
       "    <tr>\n",
       "      <th>house</th>\n",
       "      <td>59</td>\n",
       "      <td>305</td>\n",
       "      <td>364</td>\n",
       "    </tr>\n",
       "    <tr>\n",
       "      <th>major_purchase</th>\n",
       "      <td>220</td>\n",
       "      <td>1921</td>\n",
       "      <td>2141</td>\n",
       "    </tr>\n",
       "    <tr>\n",
       "      <th>medical</th>\n",
       "      <td>106</td>\n",
       "      <td>572</td>\n",
       "      <td>678</td>\n",
       "    </tr>\n",
       "    <tr>\n",
       "      <th>moving</th>\n",
       "      <td>91</td>\n",
       "      <td>481</td>\n",
       "      <td>572</td>\n",
       "    </tr>\n",
       "    <tr>\n",
       "      <th>other</th>\n",
       "      <td>630</td>\n",
       "      <td>3223</td>\n",
       "      <td>3853</td>\n",
       "    </tr>\n",
       "    <tr>\n",
       "      <th>renewable_energy</th>\n",
       "      <td>19</td>\n",
       "      <td>81</td>\n",
       "      <td>100</td>\n",
       "    </tr>\n",
       "    <tr>\n",
       "      <th>small_business</th>\n",
       "      <td>473</td>\n",
       "      <td>1269</td>\n",
       "      <td>1742</td>\n",
       "    </tr>\n",
       "    <tr>\n",
       "      <th>vacation</th>\n",
       "      <td>53</td>\n",
       "      <td>322</td>\n",
       "      <td>375</td>\n",
       "    </tr>\n",
       "    <tr>\n",
       "      <th>wedding</th>\n",
       "      <td>94</td>\n",
       "      <td>827</td>\n",
       "      <td>921</td>\n",
       "    </tr>\n",
       "    <tr>\n",
       "      <th>All</th>\n",
       "      <td>5607</td>\n",
       "      <td>32815</td>\n",
       "      <td>38422</td>\n",
       "    </tr>\n",
       "  </tbody>\n",
       "</table>\n",
       "</div>"
      ],
      "text/plain": [
       "loan_status         Charged Off  Fully Paid    All\n",
       "purpose                                           \n",
       "car                         160        1339   1499\n",
       "credit_card                 541        4472   5013\n",
       "debt_consolidation         2763       15238  18001\n",
       "educational                  56         268    324\n",
       "home_improvement            342        2497   2839\n",
       "house                        59         305    364\n",
       "major_purchase              220        1921   2141\n",
       "medical                     106         572    678\n",
       "moving                       91         481    572\n",
       "other                       630        3223   3853\n",
       "renewable_energy             19          81    100\n",
       "small_business              473        1269   1742\n",
       "vacation                     53         322    375\n",
       "wedding                      94         827    921\n",
       "All                        5607       32815  38422"
      ]
     },
     "execution_count": 33,
     "metadata": {},
     "output_type": "execute_result"
    }
   ],
   "source": [
    "pd.crosstab(df['purpose'], df['loan_status'], margins = True)\n",
    "\n",
    "#Observation: there are more number of applicants who took the loan for debt_consolidation and most of them have paid fully."
   ]
  },
  {
   "cell_type": "code",
   "execution_count": 34,
   "metadata": {},
   "outputs": [
    {
     "data": {
      "text/html": [
       "<div>\n",
       "<style scoped>\n",
       "    .dataframe tbody tr th:only-of-type {\n",
       "        vertical-align: middle;\n",
       "    }\n",
       "\n",
       "    .dataframe tbody tr th {\n",
       "        vertical-align: top;\n",
       "    }\n",
       "\n",
       "    .dataframe thead th {\n",
       "        text-align: right;\n",
       "    }\n",
       "</style>\n",
       "<table border=\"1\" class=\"dataframe\">\n",
       "  <thead>\n",
       "    <tr style=\"text-align: right;\">\n",
       "      <th>loan_status</th>\n",
       "      <th>Charged Off</th>\n",
       "      <th>Fully Paid</th>\n",
       "    </tr>\n",
       "    <tr>\n",
       "      <th>emp_exp</th>\n",
       "      <th></th>\n",
       "      <th></th>\n",
       "    </tr>\n",
       "  </thead>\n",
       "  <tbody>\n",
       "    <tr>\n",
       "      <th>Fresher</th>\n",
       "      <td>44444.5</td>\n",
       "      <td>50000</td>\n",
       "    </tr>\n",
       "    <tr>\n",
       "      <th>Junior</th>\n",
       "      <td>49200.0</td>\n",
       "      <td>55000</td>\n",
       "    </tr>\n",
       "    <tr>\n",
       "      <th>Senior</th>\n",
       "      <td>55000.0</td>\n",
       "      <td>60000</td>\n",
       "    </tr>\n",
       "    <tr>\n",
       "      <th>Professional</th>\n",
       "      <td>62000.0</td>\n",
       "      <td>70000</td>\n",
       "    </tr>\n",
       "    <tr>\n",
       "      <th>Not Specified</th>\n",
       "      <td>36000.0</td>\n",
       "      <td>38925</td>\n",
       "    </tr>\n",
       "  </tbody>\n",
       "</table>\n",
       "</div>"
      ],
      "text/plain": [
       "loan_status    Charged Off  Fully Paid\n",
       "emp_exp                               \n",
       "Fresher            44444.5       50000\n",
       "Junior             49200.0       55000\n",
       "Senior             55000.0       60000\n",
       "Professional       62000.0       70000\n",
       "Not Specified      36000.0       38925"
      ]
     },
     "execution_count": 34,
     "metadata": {},
     "output_type": "execute_result"
    }
   ],
   "source": [
    "df.pivot_table(values = \"annual_inc\", \n",
    "               index = \"emp_exp\", \n",
    "               columns = \"loan_status\", \n",
    "               fill_value = 0,\n",
    "               aggfunc=np.median).round(2)\n",
    "\n",
    "#Observation: Loan was paid by all applicants whose average annual income is high compared to charged off applicants"
   ]
  },
  {
   "cell_type": "code",
   "execution_count": 35,
   "metadata": {},
   "outputs": [
    {
     "data": {
      "text/html": [
       "<div>\n",
       "<style scoped>\n",
       "    .dataframe tbody tr th:only-of-type {\n",
       "        vertical-align: middle;\n",
       "    }\n",
       "\n",
       "    .dataframe tbody tr th {\n",
       "        vertical-align: top;\n",
       "    }\n",
       "\n",
       "    .dataframe thead th {\n",
       "        text-align: right;\n",
       "    }\n",
       "</style>\n",
       "<table border=\"1\" class=\"dataframe\">\n",
       "  <thead>\n",
       "    <tr style=\"text-align: right;\">\n",
       "      <th>loan_status</th>\n",
       "      <th>Charged Off</th>\n",
       "      <th>Fully Paid</th>\n",
       "    </tr>\n",
       "    <tr>\n",
       "      <th>home_ownership</th>\n",
       "      <th></th>\n",
       "      <th></th>\n",
       "    </tr>\n",
       "  </thead>\n",
       "  <tbody>\n",
       "    <tr>\n",
       "      <th>MORTGAGE</th>\n",
       "      <td>13.79</td>\n",
       "      <td>11.32</td>\n",
       "    </tr>\n",
       "    <tr>\n",
       "      <th>NONE</th>\n",
       "      <td>0.00</td>\n",
       "      <td>8.70</td>\n",
       "    </tr>\n",
       "    <tr>\n",
       "      <th>OTHER</th>\n",
       "      <td>13.19</td>\n",
       "      <td>11.75</td>\n",
       "    </tr>\n",
       "    <tr>\n",
       "      <th>OWN</th>\n",
       "      <td>13.69</td>\n",
       "      <td>11.33</td>\n",
       "    </tr>\n",
       "    <tr>\n",
       "      <th>RENT</th>\n",
       "      <td>13.86</td>\n",
       "      <td>11.91</td>\n",
       "    </tr>\n",
       "  </tbody>\n",
       "</table>\n",
       "</div>"
      ],
      "text/plain": [
       "loan_status     Charged Off  Fully Paid\n",
       "home_ownership                         \n",
       "MORTGAGE              13.79       11.32\n",
       "NONE                   0.00        8.70\n",
       "OTHER                 13.19       11.75\n",
       "OWN                   13.69       11.33\n",
       "RENT                  13.86       11.91"
      ]
     },
     "execution_count": 35,
     "metadata": {},
     "output_type": "execute_result"
    }
   ],
   "source": [
    "df.pivot_table(values = \"int_rate\", \n",
    "               index = \"home_ownership\", \n",
    "               columns = \"loan_status\",\n",
    "               fill_value = 0, \n",
    "               aggfunc= np.mean).round(2)\n",
    "\n",
    "\n",
    "#Observation: Most of the applicants paid the loan amount when the average interest rate is less."
   ]
  },
  {
   "cell_type": "code",
   "execution_count": 36,
   "metadata": {},
   "outputs": [
    {
     "data": {
      "text/html": [
       "<div>\n",
       "<style scoped>\n",
       "    .dataframe tbody tr th:only-of-type {\n",
       "        vertical-align: middle;\n",
       "    }\n",
       "\n",
       "    .dataframe tbody tr th {\n",
       "        vertical-align: top;\n",
       "    }\n",
       "\n",
       "    .dataframe thead th {\n",
       "        text-align: right;\n",
       "    }\n",
       "</style>\n",
       "<table border=\"1\" class=\"dataframe\">\n",
       "  <thead>\n",
       "    <tr style=\"text-align: right;\">\n",
       "      <th>loan_status</th>\n",
       "      <th>Charged Off</th>\n",
       "      <th>Fully Paid</th>\n",
       "    </tr>\n",
       "    <tr>\n",
       "      <th>home_ownership</th>\n",
       "      <th></th>\n",
       "      <th></th>\n",
       "    </tr>\n",
       "  </thead>\n",
       "  <tbody>\n",
       "    <tr>\n",
       "      <th>MORTGAGE</th>\n",
       "      <td>72686.20</td>\n",
       "      <td>80676.98</td>\n",
       "    </tr>\n",
       "    <tr>\n",
       "      <th>NONE</th>\n",
       "      <td>0.00</td>\n",
       "      <td>80733.33</td>\n",
       "    </tr>\n",
       "    <tr>\n",
       "      <th>OTHER</th>\n",
       "      <td>63433.06</td>\n",
       "      <td>66412.11</td>\n",
       "    </tr>\n",
       "    <tr>\n",
       "      <th>OWN</th>\n",
       "      <td>51251.32</td>\n",
       "      <td>58091.19</td>\n",
       "    </tr>\n",
       "    <tr>\n",
       "      <th>RENT</th>\n",
       "      <td>52284.51</td>\n",
       "      <td>56799.65</td>\n",
       "    </tr>\n",
       "  </tbody>\n",
       "</table>\n",
       "</div>"
      ],
      "text/plain": [
       "loan_status     Charged Off  Fully Paid\n",
       "home_ownership                         \n",
       "MORTGAGE           72686.20    80676.98\n",
       "NONE                   0.00    80733.33\n",
       "OTHER              63433.06    66412.11\n",
       "OWN                51251.32    58091.19\n",
       "RENT               52284.51    56799.65"
      ]
     },
     "execution_count": 36,
     "metadata": {},
     "output_type": "execute_result"
    }
   ],
   "source": [
    "df.pivot_table(values = \"annual_inc\", \n",
    "               index = \"home_ownership\", \n",
    "               columns = \"loan_status\",\n",
    "               fill_value = 0, \n",
    "               aggfunc= np.mean).round(2)\n",
    "\n",
    "#Observation: Most of the applicants with higher income have their home mortgaged."
   ]
  },
  {
   "cell_type": "code",
   "execution_count": 37,
   "metadata": {},
   "outputs": [
    {
     "data": {
      "text/html": [
       "<div>\n",
       "<style scoped>\n",
       "    .dataframe tbody tr th:only-of-type {\n",
       "        vertical-align: middle;\n",
       "    }\n",
       "\n",
       "    .dataframe tbody tr th {\n",
       "        vertical-align: top;\n",
       "    }\n",
       "\n",
       "    .dataframe thead tr th {\n",
       "        text-align: left;\n",
       "    }\n",
       "\n",
       "    .dataframe thead tr:last-of-type th {\n",
       "        text-align: right;\n",
       "    }\n",
       "</style>\n",
       "<table border=\"1\" class=\"dataframe\">\n",
       "  <thead>\n",
       "    <tr>\n",
       "      <th></th>\n",
       "      <th colspan=\"2\" halign=\"left\">annual_inc</th>\n",
       "      <th colspan=\"2\" halign=\"left\">loan_amnt</th>\n",
       "    </tr>\n",
       "    <tr>\n",
       "      <th>loan_status</th>\n",
       "      <th>Charged Off</th>\n",
       "      <th>Fully Paid</th>\n",
       "      <th>Charged Off</th>\n",
       "      <th>Fully Paid</th>\n",
       "    </tr>\n",
       "    <tr>\n",
       "      <th>grade</th>\n",
       "      <th></th>\n",
       "      <th></th>\n",
       "      <th></th>\n",
       "      <th></th>\n",
       "    </tr>\n",
       "  </thead>\n",
       "  <tbody>\n",
       "    <tr>\n",
       "      <th>A</th>\n",
       "      <td>52510.0</td>\n",
       "      <td>65665.0</td>\n",
       "      <td>7800.0</td>\n",
       "      <td>8660.0</td>\n",
       "    </tr>\n",
       "    <tr>\n",
       "      <th>B</th>\n",
       "      <td>57688.0</td>\n",
       "      <td>66678.0</td>\n",
       "      <td>10874.0</td>\n",
       "      <td>10911.0</td>\n",
       "    </tr>\n",
       "    <tr>\n",
       "      <th>C</th>\n",
       "      <td>56851.0</td>\n",
       "      <td>66227.0</td>\n",
       "      <td>11024.0</td>\n",
       "      <td>10745.0</td>\n",
       "    </tr>\n",
       "    <tr>\n",
       "      <th>D</th>\n",
       "      <td>61394.0</td>\n",
       "      <td>68258.0</td>\n",
       "      <td>12202.0</td>\n",
       "      <td>12085.0</td>\n",
       "    </tr>\n",
       "    <tr>\n",
       "      <th>E</th>\n",
       "      <td>69820.0</td>\n",
       "      <td>76599.0</td>\n",
       "      <td>15863.0</td>\n",
       "      <td>15556.0</td>\n",
       "    </tr>\n",
       "    <tr>\n",
       "      <th>F</th>\n",
       "      <td>77857.0</td>\n",
       "      <td>82646.0</td>\n",
       "      <td>19243.0</td>\n",
       "      <td>17435.0</td>\n",
       "    </tr>\n",
       "    <tr>\n",
       "      <th>G</th>\n",
       "      <td>75658.0</td>\n",
       "      <td>93502.0</td>\n",
       "      <td>18552.0</td>\n",
       "      <td>20934.0</td>\n",
       "    </tr>\n",
       "  </tbody>\n",
       "</table>\n",
       "</div>"
      ],
      "text/plain": [
       "             annual_inc              loan_amnt           \n",
       "loan_status Charged Off Fully Paid Charged Off Fully Paid\n",
       "grade                                                    \n",
       "A               52510.0    65665.0      7800.0     8660.0\n",
       "B               57688.0    66678.0     10874.0    10911.0\n",
       "C               56851.0    66227.0     11024.0    10745.0\n",
       "D               61394.0    68258.0     12202.0    12085.0\n",
       "E               69820.0    76599.0     15863.0    15556.0\n",
       "F               77857.0    82646.0     19243.0    17435.0\n",
       "G               75658.0    93502.0     18552.0    20934.0"
      ]
     },
     "execution_count": 37,
     "metadata": {},
     "output_type": "execute_result"
    }
   ],
   "source": [
    "df.pivot_table(values = [\"annual_inc\",\"loan_amnt\"], \n",
    "               index = \"grade\", \n",
    "               columns = \"loan_status\",\n",
    "               fill_value = 0, \n",
    "               aggfunc= np.mean).round(0)\n",
    "\n",
    "#Observation: Applicants with highest average income for Loan grade F are being charged off for highest average loan amount."
   ]
  },
  {
   "cell_type": "markdown",
   "metadata": {},
   "source": [
    "### Bivariate & MultiVariate Analysis"
   ]
  },
  {
   "cell_type": "code",
   "execution_count": 38,
   "metadata": {},
   "outputs": [
    {
     "data": {
      "image/png": "[encoded data removed]",
      "text/plain": [
       "<Figure size 432x288 with 2 Axes>"
      ]
     },
     "metadata": {
      "needs_background": "light"
     },
     "output_type": "display_data"
    }
   ],
   "source": [
    "df1 = df[['int_rate','loan_amnt','annual_inc']]\n",
    "df1.corr()\n",
    "corrMatrix = df1.corr()\n",
    "sns.heatmap(corrMatrix, annot=True)\n",
    "plt.show()\n",
    "\n",
    "#observation: There is relatively high correlation between annual income compared to loan amount (0.42) \n",
    "#             and very low correlation between annual income to interest rate (0.068)"
   ]
  },
  {
   "cell_type": "code",
   "execution_count": 39,
   "metadata": {},
   "outputs": [
    {
     "data": {
      "image/png": "[encoded data removed]",
      "text/plain": [
       "<Figure size 432x288 with 2 Axes>"
      ]
     },
     "metadata": {
      "needs_background": "light"
     },
     "output_type": "display_data"
    }
   ],
   "source": [
    "df1 = df[['int_rate','loan_amnt','annual_inc','dti','acc_now_delinq','chargeoff_within_12_mths']]\n",
    "df1.corr()\n",
    "corrMatrix = df1.corr()\n",
    "sns.heatmap(corrMatrix, annot=True)\n",
    "plt.show()\n",
    "\n",
    "#Observation: loan amount & interest rate has higest correlation (0.3) out of all variables correlation.\n",
    "#             dti and annual income has negative correlation (-0.11)\n",
    "#             loan amount and dti has positive but very little correlation (0.071)\n",
    "#             Interest rate to annual income has positive but negligible correlation (0.068). "
   ]
  }
 ],
 "metadata": {
  "kernelspec": {
   "display_name": "Python 3",
   "language": "python",
   "name": "python3"
  },
  "language_info": {
   "codemirror_mode": {
    "name": "ipython",
    "version": 3
   },
   "file_extension": ".py",
   "mimetype": "text/x-python",
   "name": "python",
   "nbconvert_exporter": "python",
   "pygments_lexer": "ipython3",
   "version": "3.8.5"
  }
 },
 "nbformat": 4,
 "nbformat_minor": 4
}
